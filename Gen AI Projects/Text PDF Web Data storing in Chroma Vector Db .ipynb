{
 "cells": [
  {
   "cell_type": "code",
   "execution_count": null,
   "id": "7a5eda7f-ff5b-4a21-8d1c-3b317740f5dd",
   "metadata": {},
   "outputs": [],
   "source": [
    "from langchain.document_loaders import PyPDFLoader\n",
    "file_path = 'G:\\\\Python coding\\\\Metropolia\\\\ML Projects\\\\Dataset\\\\autobiography-of-a-yogi.pdf'\n",
    "loader=PyPDFLoader(file_path)\n",
    "docs=loader.load()\n",
    "docs"
   ]
  },
  {
   "cell_type": "code",
   "execution_count": null,
   "id": "25064c1a-7987-4bb3-bea8-9a7a78f9e853",
   "metadata": {},
   "outputs": [],
   "source": [
    "from langchain.text_splitter import RecursiveCharacterTextSplitter\n",
    "\n",
    "splitter=RecursiveCharacterTextSplitter(chunk_size=1000,chunk_overlap=200)\n",
    "documents=splitter.split_documents(docs)\n",
    "documents[:5] # it give top 5 document chunks"
   ]
  },
  {
   "cell_type": "code",
   "execution_count": null,
   "id": "86a2e8ba-f4e2-4048-9ae0-07b215609c68",
   "metadata": {},
   "outputs": [],
   "source": [
    "#vector embeddings and create vector store\n",
    "\n",
    "from langchain_community.embeddings import OllamaEmbeddings\n",
    "from langchain_community.vectorstores import FAISS\n",
    "db=FAISS.from_documents(docs[:5],OllamaEmbeddings())\n",
    "\n",
    "#query=\"who is author of Autobiography of a Yogi\"\n",
    "#result=db.similarity_serach(query)\n",
    "#result[0].page_content"
   ]
  },
  {
   "cell_type": "code",
   "execution_count": null,
   "id": "d399a679-80c6-4686-8d2e-442d82f643cf",
   "metadata": {},
   "outputs": [],
   "source": [
    "from langchain_community.llms import Ollama\n",
    "llm=Ollama(model=\"llama2\")"
   ]
  },
  {
   "cell_type": "code",
   "execution_count": null,
   "id": "cd024ab1-32e9-4a45-9b86-d5a16bef3d7a",
   "metadata": {},
   "outputs": [],
   "source": [
    "# Prompt\n",
    "from langchain.callbacks.manager import CallbackManager\n",
    "from langchain.callbacks.streaming_stdout import StreamingStdOutCallbackHandler\n",
    "from langchain.chains import RetrievalQA\n",
    "template = \"\"\"Use the following pieces of context to answer the question at the end.\n",
    "If you don't know the answer, just say that you don't know, don't try to make up an answer.\n",
    "Use three sentences maximum and keep the answer as concise as possible.\n",
    "{context}\n",
    "Question: {question}\n",
    "Helpful Answer:\"\"\"\n",
    "QA_CHAIN_PROMPT = PromptTemplate(\n",
    "        input_variables=[\"context\", \"question\"],\n",
    "        template=template,\n",
    "    )\n",
    "\n",
    "llm = Ollama(model=\"llama3.2\", callback_manager=CallbackManager([StreamingStdOutCallbackHandler()]))\n",
    "qa_chain = RetrievalQA.from_chain_type(\n",
    "        llm,\n",
    "        retriever=db.as_retriever(),\n",
    "        chain_type_kwargs={\"prompt\": QA_CHAIN_PROMPT},\n",
    "    )\n",
    "\n",
    "result = qa_chain({\"query\": \"Who is author of Autobiography of an yogi\"})"
   ]
  },
  {
   "cell_type": "code",
   "execution_count": null,
   "id": "44026ed6-b67a-4e30-be99-3d9f1d615d8a",
   "metadata": {},
   "outputs": [],
   "source": [
    "print(result)"
   ]
  },
  {
   "cell_type": "code",
   "execution_count": null,
   "id": "c61ee63a-fc9c-499f-9b32-f2f109a9b875",
   "metadata": {},
   "outputs": [],
   "source": []
  }
 ],
 "metadata": {
  "kernelspec": {
   "display_name": "Python 3 (ipykernel)",
   "language": "python",
   "name": "python3"
  },
  "language_info": {
   "codemirror_mode": {
    "name": "ipython",
    "version": 3
   },
   "file_extension": ".py",
   "mimetype": "text/x-python",
   "name": "python",
   "nbconvert_exporter": "python",
   "pygments_lexer": "ipython3",
   "version": "3.12.4"
  }
 },
 "nbformat": 4,
 "nbformat_minor": 5
}
