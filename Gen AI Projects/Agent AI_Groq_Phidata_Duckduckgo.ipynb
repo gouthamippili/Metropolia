{
 "cells": [
  {
   "cell_type": "code",
   "execution_count": 12,
   "id": "ad73d5fd-6892-4433-9a78-3493e0fd70f0",
   "metadata": {},
   "outputs": [
    {
     "data": {
      "text/html": [
       "<pre style=\"white-space:pre;overflow-x:auto;line-height:normal;font-family:Menlo,'DejaVu Sans Mono',consolas,'Courier New',monospace\"><span style=\"color: #000080; text-decoration-color: #000080\">INFO    </span> Starting playground on <span style=\"color: #0000ff; text-decoration-color: #0000ff; text-decoration: underline\">http://localhost:7777</span>                                                              \n",
       "</pre>\n"
      ],
      "text/plain": [
       "\u001b[34mINFO    \u001b[0m Starting playground on \u001b[4;94mhttp://localhost:7777\u001b[0m                                                              \n"
      ]
     },
     "metadata": {},
     "output_type": "display_data"
    },
    {
     "data": {
      "text/html": [
       "<pre style=\"white-space:pre;overflow-x:auto;line-height:normal;font-family:Menlo,'DejaVu Sans Mono',consolas,'Courier New',monospace\"><span style=\"color: #008080; text-decoration-color: #008080\">┏━━━━━━━━━━━━━━━━━━━━━━━ Agent Playground ━━━━━━━━━━━━━━━━━━━━━━━━┓</span>\n",
       "<span style=\"color: #008080; text-decoration-color: #008080\">┃</span>                                                                 <span style=\"color: #008080; text-decoration-color: #008080\">┃</span>\n",
       "<span style=\"color: #008080; text-decoration-color: #008080\">┃</span>                                                                 <span style=\"color: #008080; text-decoration-color: #008080\">┃</span>\n",
       "<span style=\"color: #008080; text-decoration-color: #008080\">┃</span>  <span style=\"color: #008000; text-decoration-color: #008000; font-weight: bold\">URL:</span> <a href=\"https://phidata.app/playground?endpoint=localhost%3A7777\" target=\"_blank\">https://phidata.app/playground?endpoint=localhost%3A7777</a>  <span style=\"color: #008080; text-decoration-color: #008080\">┃</span>\n",
       "<span style=\"color: #008080; text-decoration-color: #008080\">┃</span>                                                                 <span style=\"color: #008080; text-decoration-color: #008080\">┃</span>\n",
       "<span style=\"color: #008080; text-decoration-color: #008080\">┃</span>                                                                 <span style=\"color: #008080; text-decoration-color: #008080\">┃</span>\n",
       "<span style=\"color: #008080; text-decoration-color: #008080\">┗━━━━━━━━━━━━━━━━━━━━━━━━━━━━━━━━━━━━━━━━━━━━━━━━━━━━━━━━━━━━━━━━━┛</span>\n",
       "</pre>\n"
      ],
      "text/plain": [
       "\u001b[36m┏━\u001b[0m\u001b[36m━━━━━━━━━━━━━━━━━━━━━━\u001b[0m\u001b[36m Agent Playground \u001b[0m\u001b[36m━━━━━━━━━━━━━━━━━━━━━━━\u001b[0m\u001b[36m━┓\u001b[0m\n",
       "\u001b[36m┃\u001b[0m                                                                 \u001b[36m┃\u001b[0m\n",
       "\u001b[36m┃\u001b[0m                                                                 \u001b[36m┃\u001b[0m\n",
       "\u001b[36m┃\u001b[0m  \u001b[1;32mURL:\u001b[0m \u001b]8;id=425765;https://phidata.app/playground?endpoint=localhost%3A7777\u001b\\https://phidata.app/playground?endpoint=localhost%3A7777\u001b]8;;\u001b\\  \u001b[36m┃\u001b[0m\n",
       "\u001b[36m┃\u001b[0m                                                                 \u001b[36m┃\u001b[0m\n",
       "\u001b[36m┃\u001b[0m                                                                 \u001b[36m┃\u001b[0m\n",
       "\u001b[36m┗━━━━━━━━━━━━━━━━━━━━━━━━━━━━━━━━━━━━━━━━━━━━━━━━━━━━━━━━━━━━━━━━━┛\u001b[0m\n"
      ]
     },
     "metadata": {},
     "output_type": "display_data"
    },
    {
     "name": "stderr",
     "output_type": "stream",
     "text": [
      "INFO:     Will watch for changes in these directories: ['C:\\\\Users\\\\gkipp']\n",
      "INFO:     Uvicorn running on http://localhost:7777 (Press CTRL+C to quit)\n",
      "INFO:     Started reloader process [26704] using StatReload\n",
      "WARNING:  StatReload detected changes in '.ipynb_checkpoints\\AgentBot.py'. Reloading...\n",
      "INFO:     Stopping reloader process [26704]\n"
     ]
    }
   ],
   "source": [
    "from phi.agent import Agent\n",
    "from phi.model.groq import Groq\n",
    "from phi.tools.duckduckgo import *\n",
    "from phi.tools.serpapi_tools import *\n",
    "from phi.storage.agent.sqlite import SqlAgentStorage\n",
    "from phi.playground import Playground, serve_playground_app\n",
    "\n",
    "web_agent=Agent(\n",
    "    name=\"Web Agent\",\n",
    "    agent_id= \"web_agent\",\n",
    "    role=\"Search the web for information\",\n",
    "    model=Groq(id=\"llama-3.1-70b-versatile\",GROQ_API_KEY=\"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\"),\n",
    "    tools=[DuckDuckGo()],\n",
    "    instructions=[\"Always include source\"],\n",
    "    storage=SqlAgentStorage(table_name=\"web_agent_sessions\", db_file=\"tmp/agents.db\"),\n",
    "    markdown=True,\n",
    ")\n",
    "\n",
    "search_agent= Agent(\n",
    "    name=\"stock search\",\n",
    "    agent_id=\"stock_search\",\n",
    "    role=\"Search for stock details\",\n",
    "    model= Groq(id=\"llama-3.1-70b-versatile\",GROQ_API_KEY=\"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\"),\n",
    "    tools=[SerpApiTools(api_key=\"faa55258f1b28fbbfff506c135d46411bb9339fb59458d39bdb19162aa87aa58\")],\n",
    "    storage=SqlAgentStorage(table_name=\"stock_agent_sessions\", db_file=\"tmp/agents.db\"),\n",
    "    markdown=True,\n",
    "    instructions=['Use tables to display data']\n",
    ")\n",
    "\n",
    "agent_team= Agent(\n",
    "    name=\"Agent team\",\n",
    "    agent_id=\"agent_team\",\n",
    "    team=[web_agent,search_agent],\n",
    "    storage=SqlAgentStorage(table_name=\"agent_team_sessions\", db_file=\"tmp/agents.db\"),\n",
    "    markdown=True,\n",
    ")\n",
    "\n",
    "#Setup UI\n",
    "\n",
    "playground=Playground(agents=[web_agent,search_agent,agent_team]).get_app()\n",
    "\n",
    "if __name__==\"__main__\":\n",
    "    serve_playground_app(\"Agent_playground:playground\",reload=True)"
   ]
  },
  {
   "cell_type": "code",
   "execution_count": null,
   "id": "dd45a15b-e68a-4e70-80e5-7d42f0fff1a9",
   "metadata": {},
   "outputs": [],
   "source": []
  },
  {
   "cell_type": "code",
   "execution_count": null,
   "id": "b2ab9203-9f3c-4110-8386-2383696e695d",
   "metadata": {},
   "outputs": [],
   "source": []
  }
 ],
 "metadata": {
  "kernelspec": {
   "display_name": "Python 3 (ipykernel)",
   "language": "python",
   "name": "python3"
  },
  "language_info": {
   "codemirror_mode": {
    "name": "ipython",
    "version": 3
   },
   "file_extension": ".py",
   "mimetype": "text/x-python",
   "name": "python",
   "nbconvert_exporter": "python",
   "pygments_lexer": "ipython3",
   "version": "3.12.4"
  }
 },
 "nbformat": 4,
 "nbformat_minor": 5
}
