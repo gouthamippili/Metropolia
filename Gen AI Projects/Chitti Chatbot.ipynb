{
 "cells": [
  {
   "cell_type": "code",
   "execution_count": 1,
   "id": "bcaa949b-1cf9-4874-9b3f-8860644cd3dc",
   "metadata": {},
   "outputs": [
    {
     "name": "stderr",
     "output_type": "stream",
     "text": [
      "C:\\Users\\gkipp\\anaconda3\\Lib\\site-packages\\gradio\\blocks.py:1049: UserWarning: Cannot load compact. Caught Exception: 404 Client Error: Not Found for url: https://huggingface.co/api/spaces/compact (Request ID: Root=1-6762edaf-5436819103cb3d131a4e0e25;1ab4ce13-020e-464d-9a91-c1078e12411b)\n",
      "\n",
      "Sorry, we can't find the page you are looking for.\n",
      "  warnings.warn(f\"Cannot load {theme}. Caught Exception: {str(e)}\")\n"
     ]
    },
    {
     "name": "stdout",
     "output_type": "stream",
     "text": [
      "* Running on local URL:  http://127.0.0.1:7863\n",
      "\n",
      "Could not create share link. Please check your internet connection or our status page: https://status.gradio.app.\n"
     ]
    },
    {
     "data": {
      "text/html": [
       "<div><iframe src=\"http://127.0.0.1:7863/\" width=\"100%\" height=\"500\" allow=\"autoplay; camera; microphone; clipboard-read; clipboard-write;\" frameborder=\"0\" allowfullscreen></iframe></div>"
      ],
      "text/plain": [
       "<IPython.core.display.HTML object>"
      ]
     },
     "metadata": {},
     "output_type": "display_data"
    },
    {
     "data": {
      "text/plain": []
     },
     "execution_count": 1,
     "metadata": {},
     "output_type": "execute_result"
    }
   ],
   "source": [
    "import openai\n",
    "import gradio as gr\n",
    "\n",
    "openai.api_key=\"sk-proj-13FlgyN64zto7rfuKrY2k319SeTxSfULOlhltR9gCuHnD9qfQumC7O7dPZRrxfY\"\n",
    "messages= [\n",
    "    {\"role\": \"system\",\"content\":\"You are a kind AI bot.\"}\n",
    "]\n",
    "\n",
    "def chatbot(input):\n",
    "    if input:\n",
    "        message.append({\"role\": \"user\",\"content\":input})\n",
    "        chat=openai.ChatCompletion.create(model=\"gpt-3.5-turbo\",message=mesages)\n",
    "        reply=chat.choices[0].message.content\n",
    "        mesage.append({\"role\":\"assistant\",\"content\":reply})\n",
    "        return reply\n",
    "inputs=gr.Textbox(lines=7,label=\"Chat with AI\")\n",
    "outputs=gr.Textbox(label=\"Reply\")\n",
    "\n",
    "gr.Interface(fn=chatbot, inputs=inputs, outputs=outputs, title=\"Chitti chatbot\",description=\"Ask anything\", theme=\"compact\").launch(share=True)"
   ]
  },
  {
   "cell_type": "code",
   "execution_count": null,
   "id": "b408c16f-dddc-454b-9f47-896d2c5db8c8",
   "metadata": {},
   "outputs": [],
   "source": []
  }
 ],
 "metadata": {
  "kernelspec": {
   "display_name": "Python 3 (ipykernel)",
   "language": "python",
   "name": "python3"
  },
  "language_info": {
   "codemirror_mode": {
    "name": "ipython",
    "version": 3
   },
   "file_extension": ".py",
   "mimetype": "text/x-python",
   "name": "python",
   "nbconvert_exporter": "python",
   "pygments_lexer": "ipython3",
   "version": "3.12.4"
  }
 },
 "nbformat": 4,
 "nbformat_minor": 5
}
