{
 "cells": [
  {
   "cell_type": "code",
   "execution_count": 74,
   "id": "0a17557e-ffb5-41e7-84ed-a374065dd615",
   "metadata": {},
   "outputs": [
    {
     "name": "stdout",
     "output_type": "stream",
     "text": [
      "************************ heavy luck\n",
      "************************ hi\n"
     ]
    }
   ],
   "source": [
    "import tkinter as tk\n",
    "from tkinter import messagebox\n",
    "from transformers import pipeline\n",
    "\n",
    "# Create the main application window\n",
    "root = tk.Tk()\n",
    "root.title(\"Translation App\")\n",
    "root.resizable(250, 500)\n",
    "root.geometry(\"400x250\")\n",
    "\n",
    "# Click on the button action\n",
    "\n",
    "def button_click():\n",
    "    try:\n",
    "        # Get input text\n",
    "        input_text_value = input_text.get(\"1.0\", tk.END).strip()\n",
    "        print('************************',input_text_value)\n",
    "        # Translate text\n",
    "        translator = pipeline(\"translation\", model=\"Helsinki-NLP/opus-mt-en-fi\")\n",
    "        translation = translator(input_text_value)[0]['translation_text']\n",
    "        # Clear and update output text\n",
    "        output_text.config(state=tk.NORMAL)\n",
    "        output_text.delete(\"1.0\", tk.END)\n",
    "        output_text.insert(tk.END, translation)\n",
    "        output_text.config(state=tk.DISABLED)\n",
    "        \n",
    "    except Exception as e:\n",
    "        messagebox.showerror(\"Translation Error\", str(e))\n",
    "def clear_screen():\n",
    "    input_text.delete('1.0', tk.END)\n",
    "    output_text.delete('1.0', tk.END)\n",
    "# Create a label\n",
    "label = tk.Label(root, text=\"Translate word from English to Finnish\",bg=\"lightblue\",padx=10,               \n",
    "                 pady=15,                \n",
    "                 justify=tk.CENTER,\n",
    "                 relief=tk.RAISED,\n",
    "                 underline=0,\n",
    "                 wraplength=1000)\n",
    "label.pack(pady=(10, 5))\n",
    "\n",
    "# Create a Text box\n",
    "input_label = tk.Label(root, text=\"Enter English Text:\")\n",
    "input_label.pack(pady=(10, 5))\n",
    "input_text = tk.Text(root, height=10, width=60)\n",
    "input_text.pack(pady=5)\n",
    "\n",
    "# Create a button Click to Translate\n",
    "button = tk.Button(root, text=\"Click to Translate\", command=button_click)\n",
    "button.pack(pady=10)\n",
    "\n",
    "# Create a clear button to delete text\n",
    "button = tk.Button(root, text=\"Clear\", command=clear_screen)\n",
    "button.pack(pady=10)\n",
    "\n",
    "# Result textbox\n",
    "output_label = tk.Label(root, text=\"Translated Text:\")\n",
    "output_label.pack(pady=(10, 5))\n",
    "output_text = tk.Text(root, height=10, width=60)\n",
    "output_text.pack(pady=5)\n",
    "\n",
    "\n",
    "# Run the application\n",
    "root.mainloop()"
   ]
  },
  {
   "cell_type": "code",
   "execution_count": null,
   "id": "0d35e4d0-a182-40dd-81a8-66bbc9ff60ee",
   "metadata": {},
   "outputs": [],
   "source": []
  },
  {
   "cell_type": "code",
   "execution_count": null,
   "id": "e362d86a-f0e1-4deb-9107-3e4ac9dae2be",
   "metadata": {},
   "outputs": [],
   "source": []
  }
 ],
 "metadata": {
  "kernelspec": {
   "display_name": "Python 3 (ipykernel)",
   "language": "python",
   "name": "python3"
  },
  "language_info": {
   "codemirror_mode": {
    "name": "ipython",
    "version": 3
   },
   "file_extension": ".py",
   "mimetype": "text/x-python",
   "name": "python",
   "nbconvert_exporter": "python",
   "pygments_lexer": "ipython3",
   "version": "3.12.4"
  }
 },
 "nbformat": 4,
 "nbformat_minor": 5
}
